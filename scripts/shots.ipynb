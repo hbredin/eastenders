{
 "cells": [
  {
   "cell_type": "code",
   "execution_count": 57,
   "metadata": {},
   "outputs": [],
   "source": [
    "import xml.dom.minidom\n",
    "\n",
    "mapping = {}\n",
    "dom = xml.dom.minidom.parse('eastenders.collection.xml')\n",
    "video_file_list = dom.getElementsByTagName('VideoFileList')[0]\n",
    "for video_file in video_file_list.getElementsByTagName('VideoFile'):\n",
    "    video_id = int(video_file.getElementsByTagName('id')[0].childNodes[0].data)\n",
    "    uri = video_file.getElementsByTagName('filename')[0].childNodes[0].data[:-4]\n",
    "    mapping[video_id] = uri"
   ]
  },
  {
   "cell_type": "code",
   "execution_count": 58,
   "metadata": {},
   "outputs": [],
   "source": [
    "def to_seconds(t):\n",
    "    hours, minutes, seconds, frames = t[1:-3].split(':')\n",
    "    hours = int(hours)\n",
    "    minutes = int(minutes)\n",
    "    seconds = int(seconds) + int(frames) / 25\n",
    "    return 3600 * hours + 60 * minutes + seconds"
   ]
  },
  {
   "cell_type": "code",
   "execution_count": 61,
   "metadata": {},
   "outputs": [],
   "source": [
    "from pandas import read_table\n",
    "names = ['video_id', 'shot_id', 'start', 'stop']\n",
    "converters = {'start': to_seconds, \n",
    "              'stop': lambda t: to_seconds(t) + 1/25}\n",
    "data = read_table('eastenders.masterShotReferenceTable', delim_whitespace=True, \n",
    "                  names=names, converters=converters, index_col='shot_id')\n",
    "groups = data.groupby('video_id')"
   ]
  },
  {
   "cell_type": "code",
   "execution_count": 72,
   "metadata": {},
   "outputs": [],
   "source": [
    "# dev\n",
    "shots = groups.get_group(0)\n",
    "with open('../Eastenders/data/shots.dev.txt', 'w') as fp:\n",
    "    uri = mapping[0]\n",
    "    for shot_id, shot in shots.iterrows():\n",
    "        fp.write(f'{uri} {shot.start:.3f} {shot.stop:.3f} {shot_id}\\n')"
   ]
  },
  {
   "cell_type": "code",
   "execution_count": 73,
   "metadata": {},
   "outputs": [],
   "source": [
    "# tst\n",
    "with open('../Eastenders/data/shots.tst.txt', 'w') as fp:\n",
    "    for video_id, shots in groups:\n",
    "        if video_id == 0:\n",
    "            continue\n",
    "        uri = mapping[video_id]\n",
    "        for shot_id, shot in shots.iterrows():\n",
    "            fp.write(f'{uri} {shot.start:.3f} {shot.stop:.3f} {shot_id}\\n')"
   ]
  },
  {
   "cell_type": "code",
   "execution_count": 80,
   "metadata": {},
   "outputs": [
    {
     "name": "stdout",
     "output_type": "stream",
     "text": [
      "    1987 ../Eastenders/data/shots.dev.txt\r\n"
     ]
    }
   ],
   "source": [
    "!wc -l ../Eastenders/data/shots.dev.txt\n",
    "!gzip ../Eastenders/data/shots.dev.txt"
   ]
  },
  {
   "cell_type": "code",
   "execution_count": 81,
   "metadata": {},
   "outputs": [
    {
     "name": "stdout",
     "output_type": "stream",
     "text": [
      "  469539 ../Eastenders/data/shots.tst.txt\r\n"
     ]
    }
   ],
   "source": [
    "!wc -l ../Eastenders/data/shots.tst.txt\n",
    "!gzip ../Eastenders/data/shots.tst.txt"
   ]
  },
  {
   "cell_type": "code",
   "execution_count": 82,
   "metadata": {},
   "outputs": [
    {
     "name": "stdout",
     "output_type": "stream",
     "text": [
      "eastenders.all.lst   shots.tst.txt.gz     subtitles.tst.txt.gz\r\n",
      "shots.dev.txt.gz     subtitles.dev.txt.gz\r\n"
     ]
    }
   ],
   "source": [
    "!ls ../Eastenders/data"
   ]
  }
 ],
 "metadata": {
  "kernelspec": {
   "display_name": "Python 3",
   "language": "python",
   "name": "python3"
  },
  "language_info": {
   "codemirror_mode": {
    "name": "ipython",
    "version": 3
   },
   "file_extension": ".py",
   "mimetype": "text/x-python",
   "name": "python",
   "nbconvert_exporter": "python",
   "pygments_lexer": "ipython3",
   "version": "3.6.4"
  }
 },
 "nbformat": 4,
 "nbformat_minor": 2
}
