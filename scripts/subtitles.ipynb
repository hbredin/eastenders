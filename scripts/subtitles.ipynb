{
 "cells": [
  {
   "cell_type": "code",
   "execution_count": 20,
   "metadata": {},
   "outputs": [],
   "source": [
    "def to_seconds(t):\n",
    "    \"\"\"Convert BBC XML timestamps to seconds\"\"\"\n",
    "    hours, minutes, seconds = t.split(':')\n",
    "    hours = int(hours)\n",
    "    minutes = int(minutes)\n",
    "    seconds = float(seconds)\n",
    "    return 3600 * hours + 60 * minutes + seconds"
   ]
  },
  {
   "cell_type": "code",
   "execution_count": 21,
   "metadata": {},
   "outputs": [],
   "source": [
    "import string\n",
    "def is_description(text):\n",
    "    \"\"\"Returns True if 'text' is (probably) a description \n",
    "    (e.g. SHE SOBS, PHONE RINGS)\"\"\"\n",
    "    if set(text).intersection(set(string.digits)):\n",
    "        return False\n",
    "    \n",
    "    if (text.upper() == text) and (text[-1] != '.'):\n",
    "        return True\n",
    "\n",
    "    else:\n",
    "        return False"
   ]
  },
  {
   "cell_type": "code",
   "execution_count": 22,
   "metadata": {},
   "outputs": [],
   "source": [
    "import numpy as np\n",
    "import xml.dom.minidom\n",
    "from pyannote.core.util import pairwise\n",
    "from pyannote.core import Segment, Annotation\n",
    "\n",
    "def load_xml(path):\n",
    "    \"\"\"Load BBC XML file\"\"\"\n",
    "\n",
    "    annotation = Annotation()\n",
    "    transcription = dict()\n",
    "    colors, aligns = set(), set()\n",
    "\n",
    "    dom = xml.dom.minidom.parse(path)\n",
    "\n",
    "    body = dom.getElementsByTagName('body')[0]\n",
    "    for s, subtitle in enumerate(body.getElementsByTagName('p')):\n",
    "\n",
    "        # subtitle timespan\n",
    "        begin = to_seconds(subtitle.getAttribute('begin'))\n",
    "        end = to_seconds(subtitle.getAttribute('end'))\n",
    "        duration = end - begin\n",
    "\n",
    "        # each subtitle may contain several speech turns.\n",
    "        # we try to infer them from the \"tts:color\" attribute of <span> tags\n",
    "        previous_color = None\n",
    "        current_speech_turn = []\n",
    "        speech_turns = []\n",
    "        for c, chunk in enumerate(subtitle.getElementsByTagName('span')):\n",
    "\n",
    "            # concatenate all text within <span>\n",
    "            text = []\n",
    "            for node in chunk.childNodes:\n",
    "\n",
    "                if hasattr(node, 'tagName') and node.tagName == 'br':\n",
    "                    continue\n",
    "                elif hasattr(node, 'data'):\n",
    "                    text.append(node.data.strip())\n",
    "                else:\n",
    "                    raise NotImplementedError('Missing corner case')    \n",
    "            text = \" \".join(text).strip()\n",
    "\n",
    "            # skip descriptions and empty texts\n",
    "            if len(text) == 0 or is_description(text):\n",
    "                continue                 \n",
    "            color = chunk.getAttribute('tts:color')\n",
    "\n",
    "            if (previous_color is None) or (color == previous_color):\n",
    "                current_speech_turn.append(text)\n",
    "                previous_color = color\n",
    "            else:\n",
    "                current_speech_turn = \" \".join(current_speech_turn).strip() \n",
    "                if current_speech_turn != \"\":\n",
    "                    speech_turns.append((current_speech_turn, previous_color))\n",
    "                current_speech_turn = [text]\n",
    "                previous_color = color\n",
    "\n",
    "        current_speech_turn = \" \".join(current_speech_turn).strip() \n",
    "        if current_speech_turn != \"\":\n",
    "            speech_turns.append((current_speech_turn, previous_color))\n",
    "\n",
    "        if not speech_turns:\n",
    "            continue\n",
    "\n",
    "        # split subtitle timespan based on number of characters\n",
    "        alphas = [0] + list(np.cumsum([len(s) for s, c in speech_turns]) / sum(len(s) for s, c in speech_turns))\n",
    "        for (b, e), (speech_turn, color) in zip(pairwise(alphas), speech_turns):\n",
    "            segment = Segment(begin + b * duration, begin + e * duration)\n",
    "            annotation[segment, s] = color\n",
    "            transcription[segment, s] = speech_turn\n",
    "    \n",
    "    annotation = annotation.rename_labels(generator='int')\n",
    "    return annotation, transcription"
   ]
  },
  {
   "cell_type": "code",
   "execution_count": 23,
   "metadata": {},
   "outputs": [],
   "source": [
    "for subset in ['dev', 'tst']:\n",
    "    with open(f'{subset}.lst', 'r') as fp:\n",
    "        uris = [line.strip() for line in fp]\n",
    "    with open(f'../Eastenders/data/subtitles.{subset}.txt', 'w') as fp:\n",
    "        for uri in uris:\n",
    "            annotation, transcription = load_xml(f'xml/{uri}.xml')\n",
    "            for segment, s, label in annotation.itertracks(yield_label=True):\n",
    "                fp.write(f'{uri}|{segment.start:.3f}|{segment.end:.3f}|{s}|{label}|{transcription[segment, s]}\\n')"
   ]
  },
  {
   "cell_type": "code",
   "execution_count": 24,
   "metadata": {},
   "outputs": [
    {
     "name": "stdout",
     "output_type": "stream",
     "text": [
      "5082189274976367100|2.489|3.063|0|1|I can do that.\r\n",
      "5082189274976367100|3.063|4.046|0|3|But you didn't, did you?\r\n",
      "5082189274976367100|28.179|31.377|1|3|I said put her down, May.\r\n",
      "5082189274976367100|31.377|34.813|2|1|It's OK.  I'm not going to hurt her.\r\n",
      "5082189274976367100|34.813|36.341|3|1|I'm her mother.\r\n",
      "5082189274976367100|36.341|37.970|3|3|No.  You're not.\r\n",
      "5082189274976367100|37.970|41.527|4|1|I can take over now, Dawn, it's what we planned.\r\n",
      "5082189274976367100|41.527|43.204|5|1|Give you back your life.\r\n",
      "5082189274976367100|43.204|45.762|6|3|She is my life now.\r\n",
      "5082189274976367100|45.762|47.959|7|1|That's the endorphins talking,\r\n"
     ]
    }
   ],
   "source": [
    "!head ../Eastenders/data/subtitles.dev.txt\n",
    "!gzip ../Eastenders/data/subtitles.dev.txt"
   ]
  },
  {
   "cell_type": "code",
   "execution_count": 25,
   "metadata": {},
   "outputs": [
    {
     "name": "stdout",
     "output_type": "stream",
     "text": [
      "5084819083455904024|29.900|31.779|0|1|\"Je m'appelle Bradley.\r\n",
      "5084819083455904024|36.093|38.333|1|1|\"Je m'appelle Bradley.\r\n",
      "5084819083455904024|40.650|43.886|2|1|\"Je m'appelle Bradley Branning.\"\r\n",
      "5084819083455904024|43.886|45.760|3|0|You've decided to go then.\r\n",
      "5084819083455904024|45.760|49.678|4|1|Yeah yeah. You do understand, don't you?\r\n",
      "5084819083455904024|49.678|52.195|5|3|Yeah, course we understand.\r\n",
      "5084819083455904024|52.195|56.910|6|3|I mean, we'll miss you but you've gotta do what's best for you, ain't that right, Jim?\r\n",
      "5084819083455904024|56.910|58.470|7|0|Yeah, course.\r\n",
      "5084819083455904024|58.470|61.266|8|3|What about Stacey?\r\n",
      "5084819083455904024|64.347|66.307|9|1|What you got there?\r\n"
     ]
    }
   ],
   "source": [
    "!head ../Eastenders/data/subtitles.tst.txt\n",
    "!gzip ../Eastenders/data/subtitles.tst.txt"
   ]
  },
  {
   "cell_type": "code",
   "execution_count": null,
   "metadata": {},
   "outputs": [],
   "source": []
  }
 ],
 "metadata": {
  "kernelspec": {
   "display_name": "Python 3",
   "language": "python",
   "name": "python3"
  },
  "language_info": {
   "codemirror_mode": {
    "name": "ipython",
    "version": 3
   },
   "file_extension": ".py",
   "mimetype": "text/x-python",
   "name": "python",
   "nbconvert_exporter": "python",
   "pygments_lexer": "ipython3",
   "version": "3.6.4"
  }
 },
 "nbformat": 4,
 "nbformat_minor": 2
}
